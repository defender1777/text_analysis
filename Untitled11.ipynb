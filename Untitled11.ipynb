{
 "cells": [
  {
   "cell_type": "code",
   "execution_count": 1,
   "metadata": {},
   "outputs": [],
   "source": [
    "from sklearn.feature_extraction.text import TfidfVectorizer\n",
    "from sklearn.metrics import accuracy_score\n",
    "import numpy as np\n",
    "import pandas as pd\n",
    "import re\n",
    "import matplotlib.pyplot as plt\n",
    "%matplotlib inline"
   ]
  },
  {
   "cell_type": "code",
   "execution_count": 2,
   "metadata": {},
   "outputs": [],
   "source": [
    "#загрузка данных объединенных баш скриптом\n",
    "data_test = pd.read_csv('original_test_ratings.txt', sep='\\r',  header=None)\n",
    "data_train = pd.read_csv('original_test_ratings.txt', sep='\\r', header=None)\n",
    "y_test = pd.DataFrame([])\n",
    "y_train = pd.DataFrame([])\n",
    "data_test.columns = ['comment']\n",
    "data_train.columns = ['comment']\n",
    "y_test['rating'] = data_test['comment'].str[-1]\n",
    "y_train['rating'] = data_train['comment'].str[-1]\n",
    "data_test['comment']=data_test['comment'].str[:-1]\n",
    "data_train['comment']=data_train['comment'].str[:-1]\n",
    "y_test[y_test == '0'] = 10\n",
    "y_train[y_train == '0'] = 10\n",
    "y_train = y_train.astype(int)\n",
    "y_test = y_test.astype(int)"
   ]
  },
  {
   "cell_type": "code",
   "execution_count": 3,
   "metadata": {},
   "outputs": [],
   "source": [
    "from sklearn.feature_extraction.text import TfidfVectorizer\n",
    "from sklearn.linear_model import LogisticRegression\n",
    "from sklearn.metrics import f1_score\n"
   ]
  },
  {
   "cell_type": "code",
   "execution_count": 4,
   "metadata": {},
   "outputs": [],
   "source": [
    "#функция предобработки\n",
    "import re\n",
    "import string\n",
    "import nltk\n",
    "\n",
    "\n",
    "br = re.compile(\"(<br\\s*/><br\\s*/>)|(\\-)|(\\/)\")\n",
    "stopwords = nltk.corpus.stopwords.words('english')#список стоп слов\n",
    "wn = nltk.WordNetLemmatizer()\n",
    "\n",
    "def clean_lem(text):\n",
    "    text = [br.sub(\" \", line) for line in text] # замена <br><br/> с пробелом\n",
    "    text = \"\".join([char.lower() for char in text if char not in string.punctuation]) # удаление знаков пунктуации\n",
    "    token = re.split('\\W+', text) #токенизация\n",
    "    text = [wn.lemmatize(word) for word in token if word not in stopwords] # лемматизация\n",
    "\n",
    "    return text"
   ]
  },
  {
   "cell_type": "code",
   "execution_count": 5,
   "metadata": {},
   "outputs": [],
   "source": [
    "#я взял 50% выборки, иначе у меня на компьютере не хватает памяти ^_^\n",
    "y_test_sample = pd.DataFrame([])\n",
    "y_train_sample = pd.DataFrame([])\n",
    "data_train['rating'] = y_train['rating']\n",
    "data_test['rating'] = y_test['rating']\n",
    "review_train_sample = data_train.sample(n=12500)\n",
    "review_test_sample = data_test.sample(n=12500)\n",
    "y_train_sample = review_train_sample['rating']\n",
    "y_test_sample = review_test_sample['rating']\n",
    "review_train_sample = review_train_sample.drop(columns = ['rating'])\n",
    "review_test_sample = review_test_sample.drop(columns = ['rating'])"
   ]
  },
  {
   "cell_type": "code",
   "execution_count": 6,
   "metadata": {},
   "outputs": [],
   "source": [
    "#Перевод в векторное представление tfidf\n",
    "tfidf_vect_sample = TfidfVectorizer(analyzer = clean_lem)\n",
    "tfidf_vect_fit_sample = tfidf_vect_sample.fit(review_train_sample['comment'])\n",
    "\n",
    "tfidf_train_sample = tfidf_vect_fit_sample.transform(review_train_sample['comment'])\n",
    "tfidf_test_sample = tfidf_vect_fit_sample.transform(review_test_sample['comment'])\n",
    "\n",
    "X_train_vect_sample = pd.DataFrame(tfidf_train_sample.toarray())\n",
    "X_test_vect_sample = pd.DataFrame(tfidf_test_sample.toarray())\n"
   ]
  },
  {
   "cell_type": "code",
   "execution_count": 7,
   "metadata": {},
   "outputs": [
    {
     "data": {
      "text/html": [
       "<div>\n",
       "<style scoped>\n",
       "    .dataframe tbody tr th:only-of-type {\n",
       "        vertical-align: middle;\n",
       "    }\n",
       "\n",
       "    .dataframe tbody tr th {\n",
       "        vertical-align: top;\n",
       "    }\n",
       "\n",
       "    .dataframe thead th {\n",
       "        text-align: right;\n",
       "    }\n",
       "</style>\n",
       "<table border=\"1\" class=\"dataframe\">\n",
       "  <thead>\n",
       "    <tr style=\"text-align: right;\">\n",
       "      <th></th>\n",
       "      <th>0</th>\n",
       "      <th>1</th>\n",
       "      <th>2</th>\n",
       "      <th>3</th>\n",
       "      <th>4</th>\n",
       "      <th>5</th>\n",
       "      <th>6</th>\n",
       "      <th>7</th>\n",
       "      <th>8</th>\n",
       "      <th>9</th>\n",
       "      <th>...</th>\n",
       "      <th>65506</th>\n",
       "      <th>65507</th>\n",
       "      <th>65508</th>\n",
       "      <th>65509</th>\n",
       "      <th>65510</th>\n",
       "      <th>65511</th>\n",
       "      <th>65512</th>\n",
       "      <th>65513</th>\n",
       "      <th>65514</th>\n",
       "      <th>65515</th>\n",
       "    </tr>\n",
       "  </thead>\n",
       "  <tbody>\n",
       "    <tr>\n",
       "      <th>0</th>\n",
       "      <td>0.117872</td>\n",
       "      <td>0.0</td>\n",
       "      <td>0.0</td>\n",
       "      <td>0.0</td>\n",
       "      <td>0.0</td>\n",
       "      <td>0.0</td>\n",
       "      <td>0.0</td>\n",
       "      <td>0.0</td>\n",
       "      <td>0.0</td>\n",
       "      <td>0.0</td>\n",
       "      <td>...</td>\n",
       "      <td>0.0</td>\n",
       "      <td>0.0</td>\n",
       "      <td>0.0</td>\n",
       "      <td>0.0</td>\n",
       "      <td>0.0</td>\n",
       "      <td>0.0</td>\n",
       "      <td>0.0</td>\n",
       "      <td>0.0</td>\n",
       "      <td>0.0</td>\n",
       "      <td>0.0</td>\n",
       "    </tr>\n",
       "    <tr>\n",
       "      <th>1</th>\n",
       "      <td>0.000000</td>\n",
       "      <td>0.0</td>\n",
       "      <td>0.0</td>\n",
       "      <td>0.0</td>\n",
       "      <td>0.0</td>\n",
       "      <td>0.0</td>\n",
       "      <td>0.0</td>\n",
       "      <td>0.0</td>\n",
       "      <td>0.0</td>\n",
       "      <td>0.0</td>\n",
       "      <td>...</td>\n",
       "      <td>0.0</td>\n",
       "      <td>0.0</td>\n",
       "      <td>0.0</td>\n",
       "      <td>0.0</td>\n",
       "      <td>0.0</td>\n",
       "      <td>0.0</td>\n",
       "      <td>0.0</td>\n",
       "      <td>0.0</td>\n",
       "      <td>0.0</td>\n",
       "      <td>0.0</td>\n",
       "    </tr>\n",
       "    <tr>\n",
       "      <th>2</th>\n",
       "      <td>0.000000</td>\n",
       "      <td>0.0</td>\n",
       "      <td>0.0</td>\n",
       "      <td>0.0</td>\n",
       "      <td>0.0</td>\n",
       "      <td>0.0</td>\n",
       "      <td>0.0</td>\n",
       "      <td>0.0</td>\n",
       "      <td>0.0</td>\n",
       "      <td>0.0</td>\n",
       "      <td>...</td>\n",
       "      <td>0.0</td>\n",
       "      <td>0.0</td>\n",
       "      <td>0.0</td>\n",
       "      <td>0.0</td>\n",
       "      <td>0.0</td>\n",
       "      <td>0.0</td>\n",
       "      <td>0.0</td>\n",
       "      <td>0.0</td>\n",
       "      <td>0.0</td>\n",
       "      <td>0.0</td>\n",
       "    </tr>\n",
       "    <tr>\n",
       "      <th>3</th>\n",
       "      <td>0.000000</td>\n",
       "      <td>0.0</td>\n",
       "      <td>0.0</td>\n",
       "      <td>0.0</td>\n",
       "      <td>0.0</td>\n",
       "      <td>0.0</td>\n",
       "      <td>0.0</td>\n",
       "      <td>0.0</td>\n",
       "      <td>0.0</td>\n",
       "      <td>0.0</td>\n",
       "      <td>...</td>\n",
       "      <td>0.0</td>\n",
       "      <td>0.0</td>\n",
       "      <td>0.0</td>\n",
       "      <td>0.0</td>\n",
       "      <td>0.0</td>\n",
       "      <td>0.0</td>\n",
       "      <td>0.0</td>\n",
       "      <td>0.0</td>\n",
       "      <td>0.0</td>\n",
       "      <td>0.0</td>\n",
       "    </tr>\n",
       "    <tr>\n",
       "      <th>4</th>\n",
       "      <td>0.000000</td>\n",
       "      <td>0.0</td>\n",
       "      <td>0.0</td>\n",
       "      <td>0.0</td>\n",
       "      <td>0.0</td>\n",
       "      <td>0.0</td>\n",
       "      <td>0.0</td>\n",
       "      <td>0.0</td>\n",
       "      <td>0.0</td>\n",
       "      <td>0.0</td>\n",
       "      <td>...</td>\n",
       "      <td>0.0</td>\n",
       "      <td>0.0</td>\n",
       "      <td>0.0</td>\n",
       "      <td>0.0</td>\n",
       "      <td>0.0</td>\n",
       "      <td>0.0</td>\n",
       "      <td>0.0</td>\n",
       "      <td>0.0</td>\n",
       "      <td>0.0</td>\n",
       "      <td>0.0</td>\n",
       "    </tr>\n",
       "  </tbody>\n",
       "</table>\n",
       "<p>5 rows × 65516 columns</p>\n",
       "</div>"
      ],
      "text/plain": [
       "      0      1      2      3      4      5      6      7      8      9      \\\n",
       "0  0.117872    0.0    0.0    0.0    0.0    0.0    0.0    0.0    0.0    0.0   \n",
       "1  0.000000    0.0    0.0    0.0    0.0    0.0    0.0    0.0    0.0    0.0   \n",
       "2  0.000000    0.0    0.0    0.0    0.0    0.0    0.0    0.0    0.0    0.0   \n",
       "3  0.000000    0.0    0.0    0.0    0.0    0.0    0.0    0.0    0.0    0.0   \n",
       "4  0.000000    0.0    0.0    0.0    0.0    0.0    0.0    0.0    0.0    0.0   \n",
       "\n",
       "   ...  65506  65507  65508  65509  65510  65511  65512  65513  65514  65515  \n",
       "0  ...    0.0    0.0    0.0    0.0    0.0    0.0    0.0    0.0    0.0    0.0  \n",
       "1  ...    0.0    0.0    0.0    0.0    0.0    0.0    0.0    0.0    0.0    0.0  \n",
       "2  ...    0.0    0.0    0.0    0.0    0.0    0.0    0.0    0.0    0.0    0.0  \n",
       "3  ...    0.0    0.0    0.0    0.0    0.0    0.0    0.0    0.0    0.0    0.0  \n",
       "4  ...    0.0    0.0    0.0    0.0    0.0    0.0    0.0    0.0    0.0    0.0  \n",
       "\n",
       "[5 rows x 65516 columns]"
      ]
     },
     "execution_count": 7,
     "metadata": {},
     "output_type": "execute_result"
    }
   ],
   "source": [
    "X_train_vect_sample.head()\n",
    "#Векторное представление"
   ]
  },
  {
   "cell_type": "code",
   "execution_count": 8,
   "metadata": {},
   "outputs": [
    {
     "name": "stdout",
     "output_type": "stream",
     "text": [
      "recall_score for C=0.5: 0.7056\n",
      "precision_score for C=0.5: 0.7056\n",
      "recall_score for C=0.6: 0.70736\n",
      "precision_score for C=0.6: 0.70736\n",
      "recall_score for C=0.7: 0.70984\n",
      "precision_score for C=0.7: 0.70984\n",
      "recall_score for C=0.8: 0.71072\n",
      "precision_score for C=0.8: 0.71072\n",
      "recall_score for C=0.9: 0.7112\n",
      "precision_score for C=0.9: 0.7112\n",
      "recall_score for C=1: 0.71152\n",
      "precision_score for C=1: 0.71152\n"
     ]
    }
   ],
   "source": [
    "#Перебор параметров\n",
    "from sklearn.svm import LinearSVC\n",
    "from sklearn.metrics import recall_score\n",
    "from sklearn.metrics import precision_score\n",
    "for c in [0.5, 0.6, 0.7, 0.8, 0.9, 1]:\n",
    "    svm = LinearSVC(C=c)\n",
    "    svm.fit(X_train_vect_sample, y_train_sample)\n",
    "    print (\"recall_score for C=%s: %s\" \n",
    "           % (c, recall_score(y_test_sample, svm.predict(X_test_vect_sample), average='micro')))\n",
    "    print (\"precision_score for C=%s: %s\" \n",
    "           % (c, precision_score(y_test_sample, svm.predict(X_test_vect_sample), average='micro')))"
   ]
  },
  {
   "cell_type": "code",
   "execution_count": 9,
   "metadata": {},
   "outputs": [
    {
     "name": "stdout",
     "output_type": "stream",
     "text": [
      "recall_score for C=1: 0.71152\n",
      "precision_score for C=1: 0.71152\n"
     ]
    }
   ],
   "source": [
    "#Лучший параметр для модели recall_score for C=1: 0.71152\n",
    "#precision_score for C=1: 0.0.71152\n",
    "svm = LinearSVC(C=1)\n",
    "svm.fit(X_train_vect_sample, y_train_sample)\n",
    "y_pred = svm.predict(X_test_vect_sample)\n",
    "print (\"recall_score for C=%s: %s\" \n",
    "        % (1, recall_score(y_test_sample, y_pred, average='micro')))\n",
    "print (\"precision_score for C=%s: %s\" \n",
    "        % (1, precision_score(y_test_sample, y_pred, average='micro')))"
   ]
  },
  {
   "cell_type": "code",
   "execution_count": 10,
   "metadata": {},
   "outputs": [
    {
     "data": {
      "text/plain": [
       "array([10,  8,  4, ..., 10, 10,  1])"
      ]
     },
     "execution_count": 10,
     "metadata": {},
     "output_type": "execute_result"
    }
   ],
   "source": [
    "y_pred"
   ]
  },
  {
   "cell_type": "code",
   "execution_count": 11,
   "metadata": {},
   "outputs": [
    {
     "data": {
      "text/plain": [
       "array([[2158,  102,   92,   66,   18,   24,   12,   56],\n",
       "       [ 315,  669,   90,   73,   13,   18,   12,   28],\n",
       "       [ 187,   66,  812,  116,   28,   20,   13,   37],\n",
       "       [ 148,   68,   88,  806,   45,   34,   29,   50],\n",
       "       [  25,   15,   39,   61,  725,  124,   49,  122],\n",
       "       [  28,   16,   22,   36,  110,  866,   78,  247],\n",
       "       [  22,    8,   16,   20,   47,   94,  709,  253],\n",
       "       [  29,   10,   22,   29,   57,   82,   97, 2149]], dtype=int64)"
      ]
     },
     "execution_count": 11,
     "metadata": {},
     "output_type": "execute_result"
    }
   ],
   "source": [
    "from sklearn.metrics import confusion_matrix\n",
    "confusion_matrix(y_test_sample, y_pred)"
   ]
  },
  {
   "cell_type": "code",
   "execution_count": 12,
   "metadata": {},
   "outputs": [
    {
     "data": {
      "text/plain": [
       "Text(0.5, 15.0, 'Predicted label')"
      ]
     },
     "execution_count": 12,
     "metadata": {},
     "output_type": "execute_result"
    },
    {
     "data": {
      "image/png": "[encoded data removed]",
      "text/plain": [
       "<Figure size 432x288 with 2 Axes>"
      ]
     },
     "metadata": {
      "needs_background": "light"
     },
     "output_type": "display_data"
    }
   ],
   "source": [
    "#матрица ошибок, из нее видно что алгоритм не всегда хорошо предсказывает соседние классы,\n",
    "#но в целом хорошо различает эмоциональный расскрас комментария\n",
    "import seaborn as sns\n",
    "conf_mat = confusion_matrix(y_test_sample, y_pred)\n",
    "conf_mat_normalized = conf_mat.astype('float') / conf_mat.sum(axis=1)[:, np.newaxis]\n",
    "sns.heatmap(conf_mat_normalized, cmap=\"YlGnBu\", annot=True, vmax=.2)\n",
    "plt.ylabel('True label')\n",
    "plt.xlabel('Predicted label')"
   ]
  },
  {
   "cell_type": "code",
   "execution_count": 13,
   "metadata": {},
   "outputs": [
    {
     "name": "stdout",
     "output_type": "stream",
     "text": [
      "[1]\n"
     ]
    }
   ],
   "source": [
    "data = {'qwe':['how I hate Dota. This is the worst game in the world. I spent half my life on it. in the end Im nobody. only fools play it ']}\n",
    "qwe = pd.DataFrame(data)\n",
    "qwe = tfidf_vect_fit_sample.transform(qwe['qwe'])\n",
    "qwe = pd.DataFrame(qwe.toarray())\n",
    "print(svm.predict(qwe))\n",
    "#пиши свой коммент вместо моего текста\n"
   ]
  },
  {
   "cell_type": "code",
   "execution_count": 14,
   "metadata": {},
   "outputs": [],
   "source": [
    "#сохранение модели\n",
    "import pickle\n",
    "filename = 'finalized_model.sav'\n",
    "pickle.dump(svm, open(filename, 'wb'))\n"
   ]
  },
  {
   "cell_type": "code",
   "execution_count": 16,
   "metadata": {},
   "outputs": [
    {
     "name": "stdout",
     "output_type": "stream",
     "text": [
      "[1]\n"
     ]
    }
   ],
   "source": [
    "#загрузка модели\n",
    "loaded_model = pickle.load(open(filename, 'rb'))\n",
    "result = loaded_model.predict(qwe)\n",
    "print(result)"
   ]
  },
  {
   "cell_type": "code",
   "execution_count": 19,
   "metadata": {},
   "outputs": [
    {
     "name": "stdout",
     "output_type": "stream",
     "text": [
      "recall_score for C=1: 0.68928\n",
      "precision_score for C=1: 0.68928\n"
     ]
    }
   ],
   "source": [
    "#Опробуем другую модель, точность на том же уровне(либо процесс просто не завершился, не хватило ресурсов)\n",
    "from sklearn.ensemble import  RandomForestClassifier\n",
    "rfc= RandomForestClassifier(n_estimators=500)\n",
    "rfc = rfc.fit(X_train_vect_sample, y_train_sample)\n",
    "predictions = rfc.predict(X_test_vect_sample)\n",
    "print (\"recall_score for C=%s: %s\" \n",
    "        % (1, recall_score(y_test_sample, predictions, average='micro')))\n",
    "print (\"precision_score for C=%s: %s\" \n",
    "        % (1, precision_score(y_test_sample, predictions, average='micro')))"
   ]
  },
  {
   "cell_type": "code",
   "execution_count": null,
   "metadata": {},
   "outputs": [],
   "source": [
    "#В итоге построили модель определяющую 8 классов тональности текста, классы 1-4 для негативных комментариев, 7-10 для положительных"
   ]
  }
 ],
 "metadata": {
  "kernelspec": {
   "display_name": "Python 3",
   "language": "python",
   "name": "python3"
  },
  "language_info": {
   "codemirror_mode": {
    "name": "ipython",
    "version": 3
   },
   "file_extension": ".py",
   "mimetype": "text/x-python",
   "name": "python",
   "nbconvert_exporter": "python",
   "pygments_lexer": "ipython3",
   "version": "3.7.3"
  }
 },
 "nbformat": 4,
 "nbformat_minor": 2
}
